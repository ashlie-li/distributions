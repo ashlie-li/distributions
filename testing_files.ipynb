{
 "metadata": {
  "language_info": {
   "codemirror_mode": {
    "name": "ipython",
    "version": 3
   },
   "file_extension": ".py",
   "mimetype": "text/x-python",
   "name": "python",
   "nbconvert_exporter": "python",
   "pygments_lexer": "ipython3",
   "version": "3.9.1-final"
  },
  "orig_nbformat": 2,
  "kernelspec": {
   "name": "python3",
   "display_name": "Python 3.9.1 64-bit",
   "metadata": {
    "interpreter": {
     "hash": "ac2eaa0ea0ebeafcc7822e65e46aa9d4f966f30b695406963e145ea4a91cd4fc"
    }
   }
  }
 },
 "nbformat": 4,
 "nbformat_minor": 2,
 "cells": [
  {
   "cell_type": "code",
   "execution_count": 19,
   "metadata": {},
   "outputs": [
    {
     "output_type": "execute_result",
     "data": {
      "text/plain": [
       "array([2, 1, 1, 0, 1, 0, 1, 2, 1, 3])"
      ]
     },
     "metadata": {},
     "execution_count": 19
    }
   ],
   "source": [
    "from numpy import random\n",
    "#generate an array of 10 values that follow a binomial distribution\n",
    "random.binomial(n=5, p=.25, size=10)\n"
   ]
  },
  {
   "cell_type": "code",
   "execution_count": 33,
   "metadata": {},
   "outputs": [
    {
     "output_type": "execute_result",
     "data": {
      "text/plain": [
       "array([1., 0., 0., 1., 1., 1., 1., 0., 1., 0.])"
      ]
     },
     "metadata": {},
     "execution_count": 33
    }
   ],
   "source": [
    "import numpy as np\n",
    "\n",
    "def bern(p,size=1):\n",
    "    rvs = np.array([])\n",
    "    for i in range(0,size):\n",
    "        if np.random.rand() <= p:\n",
    "            a=1\n",
    "            rvs = np.append(rvs,a)\n",
    "        else:\n",
    "            a=0\n",
    "            rvs = np.append(rvs,a)\n",
    "    return rvs\n",
    "\n",
    "    #test example: Tossing a coin. generate the random variate 10 times to see how many head(1) and how many tail(0) occur.\n",
    "\n",
    "bern(0.5, 10)"
   ]
  },
  {
   "cell_type": "code",
   "execution_count": 34,
   "metadata": {},
   "outputs": [
    {
     "output_type": "execute_result",
     "data": {
      "text/plain": [
       "array([1., 0., 0., 0., 0., 1., 1., 0., 0., 1.])"
      ]
     },
     "metadata": {},
     "execution_count": 34
    }
   ],
   "source": [
    "import numpy as np\n",
    "\n",
    "def bern(p,size=1):\n",
    "    rvs = np.array([])\n",
    "    for i in range(0,size):\n",
    "        if np.random.rand() <= p:\n",
    "            a=1\n",
    "            rvs = np.append(rvs,a)\n",
    "        else:\n",
    "            a=0\n",
    "            rvs = np.append(rvs,a)\n",
    "    return rvs\n",
    "\n",
    "#test example: Tossing a coin. generate the random variate 10 times to see how many head(1) and how many tail(0) occur.\n",
    "\n",
    "bern(0.5, 10)"
   ]
  },
  {
   "cell_type": "code",
   "execution_count": 32,
   "metadata": {},
   "outputs": [
    {
     "output_type": "execute_result",
     "data": {
      "text/plain": [
       "array([ 7, 25, 14,  8, 10, 10,  0, 19,  5, 41])"
      ]
     },
     "metadata": {},
     "execution_count": 32
    }
   ],
   "source": [
    "# from numpy import random\n",
    "# np.random.negative_binomial(n, p, size=None)\n",
    "\n",
    "np.random.negative_binomial(n=1, p=0.1, size = 10)"
   ]
  },
  {
   "cell_type": "code",
   "execution_count": 22,
   "metadata": {},
   "outputs": [
    {
     "output_type": "execute_result",
     "data": {
      "text/plain": [
       "array([3, 1, 1, 9, 1, 7, 1, 2, 1, 6])"
      ]
     },
     "metadata": {},
     "execution_count": 22
    }
   ],
   "source": [
    "from numpy import random\n",
    "# random.geometric(p, size=None)\n",
    "\n",
    "#Draw ten values from the geometric distribution, with the probability of an individual success equal to 0.3:\n",
    "\n",
    "np.random.geometric(p=0.3, size=10)"
   ]
  },
  {
   "cell_type": "code",
   "execution_count": 31,
   "metadata": {},
   "outputs": [
    {
     "output_type": "execute_result",
     "data": {
      "text/plain": [
       "array([5, 6, 6, 3, 9, 2, 5, 6, 5, 0, 6, 6, 6, 5, 6, 8, 4, 5, 4, 2])"
      ]
     },
     "metadata": {},
     "execution_count": 31
    }
   ],
   "source": [
    "# from numpy import random\n",
    "\n",
    "# np.random.poisson(lam=1.0, size=None)\n",
    "\n",
    "#example: draw a sample of poisson random variables with λ=5, size = 500. Display a histogram of the sample.\n",
    "\n",
    "np.random.poisson(5, 20)\n",
    "\n",
    "# import matplotlib.pyplot as plt\n",
    "\n",
    "# count, bins, ignored = plt.hist(s, 14, density=True)\n",
    "# plt.show()"
   ]
  },
  {
   "cell_type": "code",
   "execution_count": 28,
   "metadata": {},
   "outputs": [
    {
     "output_type": "execute_result",
     "data": {
      "text/plain": [
       "array([[0.85579158, 0.92836813],\n",
       "       [0.04551638, 0.87683327],\n",
       "       [0.82121348, 0.47738449],\n",
       "       [0.74072852, 0.49908354],\n",
       "       [0.8319029 , 0.37512834]])"
      ]
     },
     "metadata": {},
     "execution_count": 28
    }
   ],
   "source": [
    "from numpy import random\n",
    "# np.random.uniform(low=0.0, high=1.0, size=None)\n",
    "\n",
    "#example: generate a 5X2 matrix with the values of the vectors are between 0 and 1.\n",
    "\n",
    "np.random.uniform(0.0, 1.0, size = (5,2))"
   ]
  },
  {
   "cell_type": "code",
   "execution_count": 40,
   "metadata": {},
   "outputs": [
    {
     "output_type": "error",
     "ename": "NameError",
     "evalue": "name 'a' is not defined",
     "traceback": [
      "\u001b[0;31m---------------------------------------------------------------------------\u001b[0m",
      "\u001b[0;31mNameError\u001b[0m                                 Traceback (most recent call last)",
      "\u001b[0;32m<ipython-input-40-c774dfff1ef8>\u001b[0m in \u001b[0;36m<module>\u001b[0;34m\u001b[0m\n\u001b[1;32m      5\u001b[0m \u001b[0;34m\u001b[0m\u001b[0m\n\u001b[1;32m      6\u001b[0m \u001b[0;32mfrom\u001b[0m \u001b[0mscipy\u001b[0m\u001b[0;34m.\u001b[0m\u001b[0mstats\u001b[0m \u001b[0;32mimport\u001b[0m \u001b[0merlang\u001b[0m\u001b[0;34m\u001b[0m\u001b[0;34m\u001b[0m\u001b[0m\n\u001b[0;32m----> 7\u001b[0;31m \u001b[0mR\u001b[0m \u001b[0;34m=\u001b[0m \u001b[0merlang\u001b[0m\u001b[0;34m.\u001b[0m\u001b[0mrvs\u001b[0m\u001b[0;34m(\u001b[0m\u001b[0ma\u001b[0m\u001b[0;34m,\u001b[0m \u001b[0mscale\u001b[0m \u001b[0;34m=\u001b[0m \u001b[0;36m2\u001b[0m\u001b[0;34m,\u001b[0m  \u001b[0msize\u001b[0m \u001b[0;34m=\u001b[0m \u001b[0;36m10\u001b[0m\u001b[0;34m)\u001b[0m\u001b[0;34m\u001b[0m\u001b[0;34m\u001b[0m\u001b[0m\n\u001b[0m\u001b[1;32m      8\u001b[0m \u001b[0mprint\u001b[0m \u001b[0;34m(\u001b[0m\u001b[0;34m\"Random Variates : \\n\"\u001b[0m\u001b[0;34m,\u001b[0m \u001b[0mR\u001b[0m\u001b[0;34m)\u001b[0m\u001b[0;34m\u001b[0m\u001b[0;34m\u001b[0m\u001b[0m\n",
      "\u001b[0;31mNameError\u001b[0m: name 'a' is not defined"
     ]
    }
   ],
   "source": [
    "import numpy as np\n",
    "quantile = np.arange (0.01, 1, 0.1)\n",
    "   \n",
    "# Random Variates\n",
    "\n",
    "from scipy.stats import erlang\n",
    "R = erlang.rvs(a, scale = 2,  size = 10)\n",
    "print (\"Random Variates : \\n\", R)"
   ]
  },
  {
   "cell_type": "code",
   "execution_count": 39,
   "metadata": {},
   "outputs": [
    {
     "output_type": "execute_result",
     "data": {
      "text/plain": [
       "array([-2.25631129, -0.22543387, -0.98729561,  0.89223229,  0.101949  ,\n",
       "        1.80172198, -4.23302647,  1.4538379 ,  0.4269142 , -3.09030751,\n",
       "        0.69488861,  4.42860228, -1.20539004, -1.7300038 , -0.40113604,\n",
       "        2.74335322, -0.64933984,  1.56717144, -0.26733617, -2.68407694,\n",
       "        1.07806457,  3.53224179,  0.53899215, -2.72005853,  2.98766588,\n",
       "        1.16438291,  1.89468396,  0.40356427,  1.40376679,  1.88390749])"
      ]
     },
     "metadata": {},
     "execution_count": 39
    }
   ],
   "source": [
    "np.random.triangular(-5, 0, 5, 30)"
   ]
  },
  {
   "cell_type": "code",
   "execution_count": null,
   "metadata": {},
   "outputs": [],
   "source": []
  }
 ]
}